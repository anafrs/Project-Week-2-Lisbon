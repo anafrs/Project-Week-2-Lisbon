{
 "cells": [
  {
   "cell_type": "code",
   "execution_count": 1,
   "metadata": {},
   "outputs": [],
   "source": [
    "import pandas as pd\n",
    "import numpy as np\n",
    "import json\n",
    "from pandas.io.json import json_normalize"
   ]
  },
  {
   "cell_type": "code",
   "execution_count": 2,
   "metadata": {},
   "outputs": [
    {
     "data": {
      "text/plain": [
       "Index(['ID', 'post_author', 'post_date', 'post_date_gmt', 'post_content',\n",
       "       'post_title', 'post_excerpt', 'post_status', 'comment_status',\n",
       "       'ping_status', 'post_password', 'post_name', 'to_ping', 'pinged',\n",
       "       'post_modified', 'post_modified_gmt', 'post_content_filtered',\n",
       "       'post_parent', 'guid', 'menu_order', 'post_type', 'post_mime_type',\n",
       "       'comment_count', 'filter', 'id', 'type', 'title', 'featured_media',\n",
       "       'featured_media_thumbnail', 'featured_media_medium',\n",
       "       'featured_media_large', 'subtitle', 'subject', 'string_dates',\n",
       "       'string_times', 'description', 'venue', 'categories_name_list',\n",
       "       'tags_name_list', 'link', 'occurences', 'StartDate', 'LastDate',\n",
       "       'price_cat', 'price_val', 'target_audience', 'accessibility'],\n",
       "      dtype='object')"
      ]
     },
     "execution_count": 2,
     "metadata": {},
     "output_type": "execute_result"
    }
   ],
   "source": [
    "agenda = pd.read_json(\"agenda_cultural.json\")\n",
    "agenda.columns"
   ]
  },
  {
   "cell_type": "code",
   "execution_count": 3,
   "metadata": {},
   "outputs": [
    {
     "data": {
      "text/html": [
       "<div>\n",
       "<style scoped>\n",
       "    .dataframe tbody tr th:only-of-type {\n",
       "        vertical-align: middle;\n",
       "    }\n",
       "\n",
       "    .dataframe tbody tr th {\n",
       "        vertical-align: top;\n",
       "    }\n",
       "\n",
       "    .dataframe thead th {\n",
       "        text-align: right;\n",
       "    }\n",
       "</style>\n",
       "<table border=\"1\" class=\"dataframe\">\n",
       "  <thead>\n",
       "    <tr style=\"text-align: right;\">\n",
       "      <th></th>\n",
       "      <th>ID</th>\n",
       "      <th>categories_name_list</th>\n",
       "      <th>title</th>\n",
       "      <th>venue</th>\n",
       "      <th>occurences</th>\n",
       "      <th>LastDate</th>\n",
       "      <th>price_cat</th>\n",
       "    </tr>\n",
       "  </thead>\n",
       "  <tbody>\n",
       "    <tr>\n",
       "      <th>0</th>\n",
       "      <td>24138</td>\n",
       "      <td>{'cinema': {'id': 38, 'slug': 'cinema', 'name'...</td>\n",
       "      <td>{'rendered': '\"O Farol\" de Robert Eggers'}</td>\n",
       "      <td>{'espaco-nimas': {'id': 405, 'slug': 'espaco-n...</td>\n",
       "      <td>[2020-02-14, 2020-02-15, 2020-02-16, 2020-02-18]</td>\n",
       "      <td>2020-02-18</td>\n",
       "      <td>unknown</td>\n",
       "    </tr>\n",
       "    <tr>\n",
       "      <th>1</th>\n",
       "      <td>24137</td>\n",
       "      <td>{'musica': {'id': 42, 'slug': 'musica', 'name'...</td>\n",
       "      <td>{'rendered': 'Resistência'}</td>\n",
       "      <td>{'culturgest': {'id': 303, 'slug': 'culturgest...</td>\n",
       "      <td>[2020-02-15]</td>\n",
       "      <td>2020-02-15</td>\n",
       "      <td>value</td>\n",
       "    </tr>\n",
       "    <tr>\n",
       "      <th>2</th>\n",
       "      <td>24132</td>\n",
       "      <td>{'ciencia': {'id': 39, 'slug': 'ciencia', 'nam...</td>\n",
       "      <td>{'rendered': 'Dinossauros Explorer'}</td>\n",
       "      <td>[]</td>\n",
       "      <td>[2019-12-21, 2019-12-22, 2019-12-23, 2019-12-2...</td>\n",
       "      <td>2020-03-22</td>\n",
       "      <td></td>\n",
       "    </tr>\n",
       "    <tr>\n",
       "      <th>3</th>\n",
       "      <td>24109</td>\n",
       "      <td>{'cinema': {'id': 38, 'slug': 'cinema', 'name'...</td>\n",
       "      <td>{'rendered': 'Especial Óscares'}</td>\n",
       "      <td>{'espaco-nimas': {'id': 405, 'slug': 'espaco-n...</td>\n",
       "      <td>[2020-02-02, 2020-02-03, 2020-02-04, 2020-02-0...</td>\n",
       "      <td>2020-02-24</td>\n",
       "      <td>unknown</td>\n",
       "    </tr>\n",
       "    <tr>\n",
       "      <th>4</th>\n",
       "      <td>24128</td>\n",
       "      <td>{'danca': {'id': 26, 'slug': 'danca', 'name': ...</td>\n",
       "      <td>{'rendered': 'The Wake of Sleep'}</td>\n",
       "      <td>[]</td>\n",
       "      <td>[2020-01-29]</td>\n",
       "      <td>2020-01-29</td>\n",
       "      <td>free</td>\n",
       "    </tr>\n",
       "  </tbody>\n",
       "</table>\n",
       "</div>"
      ],
      "text/plain": [
       "      ID                               categories_name_list  \\\n",
       "0  24138  {'cinema': {'id': 38, 'slug': 'cinema', 'name'...   \n",
       "1  24137  {'musica': {'id': 42, 'slug': 'musica', 'name'...   \n",
       "2  24132  {'ciencia': {'id': 39, 'slug': 'ciencia', 'nam...   \n",
       "3  24109  {'cinema': {'id': 38, 'slug': 'cinema', 'name'...   \n",
       "4  24128  {'danca': {'id': 26, 'slug': 'danca', 'name': ...   \n",
       "\n",
       "                                        title  \\\n",
       "0  {'rendered': '\"O Farol\" de Robert Eggers'}   \n",
       "1                 {'rendered': 'Resistência'}   \n",
       "2        {'rendered': 'Dinossauros Explorer'}   \n",
       "3            {'rendered': 'Especial Óscares'}   \n",
       "4           {'rendered': 'The Wake of Sleep'}   \n",
       "\n",
       "                                               venue  \\\n",
       "0  {'espaco-nimas': {'id': 405, 'slug': 'espaco-n...   \n",
       "1  {'culturgest': {'id': 303, 'slug': 'culturgest...   \n",
       "2                                                 []   \n",
       "3  {'espaco-nimas': {'id': 405, 'slug': 'espaco-n...   \n",
       "4                                                 []   \n",
       "\n",
       "                                          occurences    LastDate price_cat  \n",
       "0   [2020-02-14, 2020-02-15, 2020-02-16, 2020-02-18]  2020-02-18   unknown  \n",
       "1                                       [2020-02-15]  2020-02-15     value  \n",
       "2  [2019-12-21, 2019-12-22, 2019-12-23, 2019-12-2...  2020-03-22            \n",
       "3  [2020-02-02, 2020-02-03, 2020-02-04, 2020-02-0...  2020-02-24   unknown  \n",
       "4                                       [2020-01-29]  2020-01-29      free  "
      ]
     },
     "execution_count": 3,
     "metadata": {},
     "output_type": "execute_result"
    }
   ],
   "source": [
    "agendalx = agenda[[\"ID\", \"categories_name_list\", \"title\", \"venue\", \"occurences\", \"LastDate\", \"price_cat\"]]\n",
    "agendalx.head(5)"
   ]
  },
  {
   "cell_type": "markdown",
   "metadata": {},
   "source": [
    "### Clean venue  and create column"
   ]
  },
  {
   "cell_type": "code",
   "execution_count": 4,
   "metadata": {},
   "outputs": [
    {
     "name": "stderr",
     "output_type": "stream",
     "text": [
      "/Library/Frameworks/Python.framework/Versions/3.7/lib/python3.7/site-packages/ipykernel_launcher.py:11: SettingWithCopyWarning: \n",
      "A value is trying to be set on a copy of a slice from a DataFrame.\n",
      "Try using .loc[row_indexer,col_indexer] = value instead\n",
      "\n",
      "See the caveats in the documentation: http://pandas.pydata.org/pandas-docs/stable/user_guide/indexing.html#returning-a-view-versus-a-copy\n",
      "  # This is added back by InteractiveShellApp.init_path()\n"
     ]
    },
    {
     "data": {
      "text/html": [
       "<div>\n",
       "<style scoped>\n",
       "    .dataframe tbody tr th:only-of-type {\n",
       "        vertical-align: middle;\n",
       "    }\n",
       "\n",
       "    .dataframe tbody tr th {\n",
       "        vertical-align: top;\n",
       "    }\n",
       "\n",
       "    .dataframe thead th {\n",
       "        text-align: right;\n",
       "    }\n",
       "</style>\n",
       "<table border=\"1\" class=\"dataframe\">\n",
       "  <thead>\n",
       "    <tr style=\"text-align: right;\">\n",
       "      <th></th>\n",
       "      <th>ID</th>\n",
       "      <th>categories_name_list</th>\n",
       "      <th>title</th>\n",
       "      <th>venue</th>\n",
       "      <th>occurences</th>\n",
       "      <th>LastDate</th>\n",
       "      <th>price_cat</th>\n",
       "      <th>Venue Name</th>\n",
       "    </tr>\n",
       "  </thead>\n",
       "  <tbody>\n",
       "    <tr>\n",
       "      <th>0</th>\n",
       "      <td>24138</td>\n",
       "      <td>{'cinema': {'id': 38, 'slug': 'cinema', 'name'...</td>\n",
       "      <td>{'rendered': '\"O Farol\" de Robert Eggers'}</td>\n",
       "      <td>{'espaco-nimas': {'id': 405, 'slug': 'espaco-n...</td>\n",
       "      <td>[2020-02-14, 2020-02-15, 2020-02-16, 2020-02-18]</td>\n",
       "      <td>2020-02-18</td>\n",
       "      <td>unknown</td>\n",
       "      <td>espaco-nimas</td>\n",
       "    </tr>\n",
       "    <tr>\n",
       "      <th>1</th>\n",
       "      <td>24137</td>\n",
       "      <td>{'musica': {'id': 42, 'slug': 'musica', 'name'...</td>\n",
       "      <td>{'rendered': 'Resistência'}</td>\n",
       "      <td>{'culturgest': {'id': 303, 'slug': 'culturgest...</td>\n",
       "      <td>[2020-02-15]</td>\n",
       "      <td>2020-02-15</td>\n",
       "      <td>value</td>\n",
       "      <td>culturgest</td>\n",
       "    </tr>\n",
       "    <tr>\n",
       "      <th>2</th>\n",
       "      <td>24132</td>\n",
       "      <td>{'ciencia': {'id': 39, 'slug': 'ciencia', 'nam...</td>\n",
       "      <td>{'rendered': 'Dinossauros Explorer'}</td>\n",
       "      <td>[]</td>\n",
       "      <td>[2019-12-21, 2019-12-22, 2019-12-23, 2019-12-2...</td>\n",
       "      <td>2020-03-22</td>\n",
       "      <td></td>\n",
       "      <td>---</td>\n",
       "    </tr>\n",
       "    <tr>\n",
       "      <th>3</th>\n",
       "      <td>24109</td>\n",
       "      <td>{'cinema': {'id': 38, 'slug': 'cinema', 'name'...</td>\n",
       "      <td>{'rendered': 'Especial Óscares'}</td>\n",
       "      <td>{'espaco-nimas': {'id': 405, 'slug': 'espaco-n...</td>\n",
       "      <td>[2020-02-02, 2020-02-03, 2020-02-04, 2020-02-0...</td>\n",
       "      <td>2020-02-24</td>\n",
       "      <td>unknown</td>\n",
       "      <td>espaco-nimas</td>\n",
       "    </tr>\n",
       "    <tr>\n",
       "      <th>4</th>\n",
       "      <td>24128</td>\n",
       "      <td>{'danca': {'id': 26, 'slug': 'danca', 'name': ...</td>\n",
       "      <td>{'rendered': 'The Wake of Sleep'}</td>\n",
       "      <td>[]</td>\n",
       "      <td>[2020-01-29]</td>\n",
       "      <td>2020-01-29</td>\n",
       "      <td>free</td>\n",
       "      <td>---</td>\n",
       "    </tr>\n",
       "  </tbody>\n",
       "</table>\n",
       "</div>"
      ],
      "text/plain": [
       "      ID                               categories_name_list  \\\n",
       "0  24138  {'cinema': {'id': 38, 'slug': 'cinema', 'name'...   \n",
       "1  24137  {'musica': {'id': 42, 'slug': 'musica', 'name'...   \n",
       "2  24132  {'ciencia': {'id': 39, 'slug': 'ciencia', 'nam...   \n",
       "3  24109  {'cinema': {'id': 38, 'slug': 'cinema', 'name'...   \n",
       "4  24128  {'danca': {'id': 26, 'slug': 'danca', 'name': ...   \n",
       "\n",
       "                                        title  \\\n",
       "0  {'rendered': '\"O Farol\" de Robert Eggers'}   \n",
       "1                 {'rendered': 'Resistência'}   \n",
       "2        {'rendered': 'Dinossauros Explorer'}   \n",
       "3            {'rendered': 'Especial Óscares'}   \n",
       "4           {'rendered': 'The Wake of Sleep'}   \n",
       "\n",
       "                                               venue  \\\n",
       "0  {'espaco-nimas': {'id': 405, 'slug': 'espaco-n...   \n",
       "1  {'culturgest': {'id': 303, 'slug': 'culturgest...   \n",
       "2                                                 []   \n",
       "3  {'espaco-nimas': {'id': 405, 'slug': 'espaco-n...   \n",
       "4                                                 []   \n",
       "\n",
       "                                          occurences    LastDate price_cat  \\\n",
       "0   [2020-02-14, 2020-02-15, 2020-02-16, 2020-02-18]  2020-02-18   unknown   \n",
       "1                                       [2020-02-15]  2020-02-15     value   \n",
       "2  [2019-12-21, 2019-12-22, 2019-12-23, 2019-12-2...  2020-03-22             \n",
       "3  [2020-02-02, 2020-02-03, 2020-02-04, 2020-02-0...  2020-02-24   unknown   \n",
       "4                                       [2020-01-29]  2020-01-29      free   \n",
       "\n",
       "     Venue Name  \n",
       "0  espaco-nimas  \n",
       "1    culturgest  \n",
       "2           ---  \n",
       "3  espaco-nimas  \n",
       "4           ---  "
      ]
     },
     "execution_count": 4,
     "metadata": {},
     "output_type": "execute_result"
    }
   ],
   "source": [
    "venue = agenda[\"venue\"]\n",
    "\n",
    "def get_venue(x):\n",
    "    if type(x) == dict:\n",
    "        # Return the first key\n",
    "        return list(x.keys())[0]\n",
    "    \n",
    "    return \"---\"\n",
    "\n",
    "            \n",
    "agendalx[\"Venue Name\"] = agendalx[\"venue\"].apply(get_venue)\n",
    "agendalx.head()"
   ]
  },
  {
   "cell_type": "markdown",
   "metadata": {},
   "source": [
    "### Clean date and create column "
   ]
  },
  {
   "cell_type": "code",
   "execution_count": 5,
   "metadata": {},
   "outputs": [
    {
     "name": "stderr",
     "output_type": "stream",
     "text": [
      "/Library/Frameworks/Python.framework/Versions/3.7/lib/python3.7/site-packages/ipykernel_launcher.py:4: SettingWithCopyWarning: \n",
      "A value is trying to be set on a copy of a slice from a DataFrame.\n",
      "Try using .loc[row_indexer,col_indexer] = value instead\n",
      "\n",
      "See the caveats in the documentation: http://pandas.pydata.org/pandas-docs/stable/user_guide/indexing.html#returning-a-view-versus-a-copy\n",
      "  after removing the cwd from sys.path.\n",
      "/Library/Frameworks/Python.framework/Versions/3.7/lib/python3.7/site-packages/ipykernel_launcher.py:6: SettingWithCopyWarning: \n",
      "A value is trying to be set on a copy of a slice from a DataFrame.\n",
      "Try using .loc[row_indexer,col_indexer] = value instead\n",
      "\n",
      "See the caveats in the documentation: http://pandas.pydata.org/pandas-docs/stable/user_guide/indexing.html#returning-a-view-versus-a-copy\n",
      "  \n",
      "/Library/Frameworks/Python.framework/Versions/3.7/lib/python3.7/site-packages/ipykernel_launcher.py:8: SettingWithCopyWarning: \n",
      "A value is trying to be set on a copy of a slice from a DataFrame.\n",
      "Try using .loc[row_indexer,col_indexer] = value instead\n",
      "\n",
      "See the caveats in the documentation: http://pandas.pydata.org/pandas-docs/stable/user_guide/indexing.html#returning-a-view-versus-a-copy\n",
      "  \n"
     ]
    }
   ],
   "source": [
    "# no null values\n",
    "agendalx[\"LastDate\"].isnull().sum()\n",
    "# to datetime\n",
    "agendalx[\"LastDate\"] = pd.to_datetime(agendalx[\"LastDate\"])\n",
    "#month column\n",
    "agendalx[\"Month\"] = agendalx[\"LastDate\"].dt.month\n",
    "#quarter column\n",
    "agendalx[\"Quarter\"] = agendalx[\"LastDate\"].dt.quarter\n"
   ]
  },
  {
   "cell_type": "markdown",
   "metadata": {},
   "source": [
    "### Clean type of event and create event"
   ]
  },
  {
   "cell_type": "code",
   "execution_count": 6,
   "metadata": {},
   "outputs": [
    {
     "name": "stderr",
     "output_type": "stream",
     "text": [
      "/Library/Frameworks/Python.framework/Versions/3.7/lib/python3.7/site-packages/ipykernel_launcher.py:6: SettingWithCopyWarning: \n",
      "A value is trying to be set on a copy of a slice from a DataFrame.\n",
      "Try using .loc[row_indexer,col_indexer] = value instead\n",
      "\n",
      "See the caveats in the documentation: http://pandas.pydata.org/pandas-docs/stable/user_guide/indexing.html#returning-a-view-versus-a-copy\n",
      "  \n"
     ]
    }
   ],
   "source": [
    "def get_event(x):\n",
    "    if type(x) == dict:\n",
    "        # Return the first key\n",
    "        return list(x.keys())[0]\n",
    "    return \"---\"\n",
    "agendalx[\"categories_name_list\"] = agendalx[\"categories_name_list\"].apply(get_event)"
   ]
  },
  {
   "cell_type": "code",
   "execution_count": 7,
   "metadata": {},
   "outputs": [
    {
     "data": {
      "text/html": [
       "<div>\n",
       "<style scoped>\n",
       "    .dataframe tbody tr th:only-of-type {\n",
       "        vertical-align: middle;\n",
       "    }\n",
       "\n",
       "    .dataframe tbody tr th {\n",
       "        vertical-align: top;\n",
       "    }\n",
       "\n",
       "    .dataframe thead th {\n",
       "        text-align: right;\n",
       "    }\n",
       "</style>\n",
       "<table border=\"1\" class=\"dataframe\">\n",
       "  <thead>\n",
       "    <tr style=\"text-align: right;\">\n",
       "      <th></th>\n",
       "      <th>ID</th>\n",
       "      <th>categories_name_list</th>\n",
       "      <th>title</th>\n",
       "      <th>venue</th>\n",
       "      <th>occurences</th>\n",
       "      <th>LastDate</th>\n",
       "      <th>price_cat</th>\n",
       "      <th>Venue Name</th>\n",
       "      <th>Month</th>\n",
       "      <th>Quarter</th>\n",
       "    </tr>\n",
       "  </thead>\n",
       "  <tbody>\n",
       "    <tr>\n",
       "      <th>0</th>\n",
       "      <td>24138</td>\n",
       "      <td>cinema</td>\n",
       "      <td>{'rendered': '\"O Farol\" de Robert Eggers'}</td>\n",
       "      <td>{'espaco-nimas': {'id': 405, 'slug': 'espaco-n...</td>\n",
       "      <td>[2020-02-14, 2020-02-15, 2020-02-16, 2020-02-18]</td>\n",
       "      <td>2020-02-18</td>\n",
       "      <td>unknown</td>\n",
       "      <td>espaco-nimas</td>\n",
       "      <td>2</td>\n",
       "      <td>1</td>\n",
       "    </tr>\n",
       "    <tr>\n",
       "      <th>1</th>\n",
       "      <td>24137</td>\n",
       "      <td>musica</td>\n",
       "      <td>{'rendered': 'Resistência'}</td>\n",
       "      <td>{'culturgest': {'id': 303, 'slug': 'culturgest...</td>\n",
       "      <td>[2020-02-15]</td>\n",
       "      <td>2020-02-15</td>\n",
       "      <td>value</td>\n",
       "      <td>culturgest</td>\n",
       "      <td>2</td>\n",
       "      <td>1</td>\n",
       "    </tr>\n",
       "    <tr>\n",
       "      <th>2</th>\n",
       "      <td>24132</td>\n",
       "      <td>ciencia</td>\n",
       "      <td>{'rendered': 'Dinossauros Explorer'}</td>\n",
       "      <td>[]</td>\n",
       "      <td>[2019-12-21, 2019-12-22, 2019-12-23, 2019-12-2...</td>\n",
       "      <td>2020-03-22</td>\n",
       "      <td></td>\n",
       "      <td>---</td>\n",
       "      <td>3</td>\n",
       "      <td>1</td>\n",
       "    </tr>\n",
       "    <tr>\n",
       "      <th>3</th>\n",
       "      <td>24109</td>\n",
       "      <td>cinema</td>\n",
       "      <td>{'rendered': 'Especial Óscares'}</td>\n",
       "      <td>{'espaco-nimas': {'id': 405, 'slug': 'espaco-n...</td>\n",
       "      <td>[2020-02-02, 2020-02-03, 2020-02-04, 2020-02-0...</td>\n",
       "      <td>2020-02-24</td>\n",
       "      <td>unknown</td>\n",
       "      <td>espaco-nimas</td>\n",
       "      <td>2</td>\n",
       "      <td>1</td>\n",
       "    </tr>\n",
       "    <tr>\n",
       "      <th>4</th>\n",
       "      <td>24128</td>\n",
       "      <td>danca</td>\n",
       "      <td>{'rendered': 'The Wake of Sleep'}</td>\n",
       "      <td>[]</td>\n",
       "      <td>[2020-01-29]</td>\n",
       "      <td>2020-01-29</td>\n",
       "      <td>free</td>\n",
       "      <td>---</td>\n",
       "      <td>1</td>\n",
       "      <td>1</td>\n",
       "    </tr>\n",
       "  </tbody>\n",
       "</table>\n",
       "</div>"
      ],
      "text/plain": [
       "      ID categories_name_list                                       title  \\\n",
       "0  24138               cinema  {'rendered': '\"O Farol\" de Robert Eggers'}   \n",
       "1  24137               musica                 {'rendered': 'Resistência'}   \n",
       "2  24132              ciencia        {'rendered': 'Dinossauros Explorer'}   \n",
       "3  24109               cinema            {'rendered': 'Especial Óscares'}   \n",
       "4  24128                danca           {'rendered': 'The Wake of Sleep'}   \n",
       "\n",
       "                                               venue  \\\n",
       "0  {'espaco-nimas': {'id': 405, 'slug': 'espaco-n...   \n",
       "1  {'culturgest': {'id': 303, 'slug': 'culturgest...   \n",
       "2                                                 []   \n",
       "3  {'espaco-nimas': {'id': 405, 'slug': 'espaco-n...   \n",
       "4                                                 []   \n",
       "\n",
       "                                          occurences   LastDate price_cat  \\\n",
       "0   [2020-02-14, 2020-02-15, 2020-02-16, 2020-02-18] 2020-02-18   unknown   \n",
       "1                                       [2020-02-15] 2020-02-15     value   \n",
       "2  [2019-12-21, 2019-12-22, 2019-12-23, 2019-12-2... 2020-03-22             \n",
       "3  [2020-02-02, 2020-02-03, 2020-02-04, 2020-02-0... 2020-02-24   unknown   \n",
       "4                                       [2020-01-29] 2020-01-29      free   \n",
       "\n",
       "     Venue Name  Month  Quarter  \n",
       "0  espaco-nimas      2        1  \n",
       "1    culturgest      2        1  \n",
       "2           ---      3        1  \n",
       "3  espaco-nimas      2        1  \n",
       "4           ---      1        1  "
      ]
     },
     "execution_count": 7,
     "metadata": {},
     "output_type": "execute_result"
    }
   ],
   "source": [
    "agendalx.head()"
   ]
  },
  {
   "cell_type": "markdown",
   "metadata": {},
   "source": [
    "### workings"
   ]
  },
  {
   "cell_type": "code",
   "execution_count": 105,
   "metadata": {},
   "outputs": [
    {
     "data": {
      "text/plain": [
       "4    1973\n",
       "1    1395\n",
       "3    1269\n",
       "2    1223\n",
       "Name: Quarter, dtype: int64"
      ]
     },
     "execution_count": 105,
     "metadata": {},
     "output_type": "execute_result"
    }
   ],
   "source": [
    "agendalx[\"Quarter\"].sort_values().value_counts()"
   ]
  },
  {
   "cell_type": "code",
   "execution_count": null,
   "metadata": {},
   "outputs": [],
   "source": [
    "#type vs time\n",
    "# price vs time"
   ]
  },
  {
   "cell_type": "code",
   "execution_count": 16,
   "metadata": {},
   "outputs": [
    {
     "data": {
      "text/plain": [
       "array(['cinema', 'musica', 'ciencia', 'danca', 'artes', '---', 'teatro',\n",
       "       'visitas-guiadas', 'literatura', 'feiras'], dtype=object)"
      ]
     },
     "execution_count": 16,
     "metadata": {},
     "output_type": "execute_result"
    }
   ],
   "source": [
    "agendalx.categories_name_list.unique()"
   ]
  },
  {
   "cell_type": "code",
   "execution_count": 96,
   "metadata": {},
   "outputs": [],
   "source": [
    "type_quarter = agendalx.groupby([\"Quarter\",\"categories_name_list\"])[\"ID\"].count()"
   ]
  },
  {
   "cell_type": "code",
   "execution_count": null,
   "metadata": {},
   "outputs": [],
   "source": []
  },
  {
   "cell_type": "code",
   "execution_count": 127,
   "metadata": {},
   "outputs": [
    {
     "data": {
      "text/plain": [
       "categories_name_list  Quarter\n",
       "---                   1           25\n",
       "artes                 1          489\n",
       "ciencia               1           77\n",
       "cinema                1          132\n",
       "danca                 1           67\n",
       "feiras                1           14\n",
       "literatura            1           32\n",
       "musica                1          285\n",
       "teatro                1          201\n",
       "visitas-guiadas       1           73\n",
       "---                   2           37\n",
       "artes                 2          365\n",
       "ciencia               2           87\n",
       "cinema                2           93\n",
       "danca                 2           89\n",
       "feiras                2           20\n",
       "literatura            2           24\n",
       "musica                2          271\n",
       "teatro                2          188\n",
       "visitas-guiadas       2           49\n",
       "---                   3           47\n",
       "artes                 3          473\n",
       "ciencia               3           76\n",
       "cinema                3          103\n",
       "danca                 3           57\n",
       "feiras                3           22\n",
       "literatura            3           24\n",
       "musica                3          270\n",
       "teatro                3          133\n",
       "visitas-guiadas       3           64\n",
       "---                   4           51\n",
       "artes                 4          536\n",
       "ciencia               4          132\n",
       "cinema                4          174\n",
       "danca                 4           96\n",
       "feiras                4           65\n",
       "literatura            4           54\n",
       "musica                4          526\n",
       "teatro                4          246\n",
       "visitas-guiadas       4           93\n",
       "Name: ID, dtype: int64"
      ]
     },
     "execution_count": 127,
     "metadata": {},
     "output_type": "execute_result"
    }
   ],
   "source": [
    "type_quarter"
   ]
  },
  {
   "cell_type": "code",
   "execution_count": null,
   "metadata": {},
   "outputs": [],
   "source": []
  },
  {
   "cell_type": "code",
   "execution_count": 121,
   "metadata": {},
   "outputs": [
    {
     "data": {
      "text/plain": [
       "array(['unknown', 'value', '', 'free'], dtype=object)"
      ]
     },
     "execution_count": 121,
     "metadata": {},
     "output_type": "execute_result"
    }
   ],
   "source": [
    "agendalx[\"price_cat\"].unique()"
   ]
  },
  {
   "cell_type": "code",
   "execution_count": 155,
   "metadata": {
    "scrolled": true
   },
   "outputs": [
    {
     "data": {
      "text/html": [
       "<div>\n",
       "<style scoped>\n",
       "    .dataframe tbody tr th:only-of-type {\n",
       "        vertical-align: middle;\n",
       "    }\n",
       "\n",
       "    .dataframe tbody tr th {\n",
       "        vertical-align: top;\n",
       "    }\n",
       "\n",
       "    .dataframe thead th {\n",
       "        text-align: right;\n",
       "    }\n",
       "</style>\n",
       "<table border=\"1\" class=\"dataframe\">\n",
       "  <thead>\n",
       "    <tr style=\"text-align: right;\">\n",
       "      <th></th>\n",
       "      <th>ID</th>\n",
       "      <th>categories_name_list</th>\n",
       "      <th>title</th>\n",
       "      <th>venue</th>\n",
       "      <th>occurences</th>\n",
       "      <th>LastDate</th>\n",
       "      <th>price_cat</th>\n",
       "      <th>Venue Name</th>\n",
       "      <th>Month</th>\n",
       "    </tr>\n",
       "    <tr>\n",
       "      <th>Quarter</th>\n",
       "      <th></th>\n",
       "      <th></th>\n",
       "      <th></th>\n",
       "      <th></th>\n",
       "      <th></th>\n",
       "      <th></th>\n",
       "      <th></th>\n",
       "      <th></th>\n",
       "      <th></th>\n",
       "    </tr>\n",
       "  </thead>\n",
       "  <tbody>\n",
       "    <tr>\n",
       "      <th>1</th>\n",
       "      <td>0.113723</td>\n",
       "      <td>0.113723</td>\n",
       "      <td>0.113723</td>\n",
       "      <td>0.113723</td>\n",
       "      <td>0.113723</td>\n",
       "      <td>0.113723</td>\n",
       "      <td>0.113723</td>\n",
       "      <td>0.113723</td>\n",
       "      <td>0.113723</td>\n",
       "    </tr>\n",
       "    <tr>\n",
       "      <th>2</th>\n",
       "      <td>0.177539</td>\n",
       "      <td>0.177539</td>\n",
       "      <td>0.177539</td>\n",
       "      <td>0.177539</td>\n",
       "      <td>0.177539</td>\n",
       "      <td>0.177539</td>\n",
       "      <td>0.177539</td>\n",
       "      <td>0.177539</td>\n",
       "      <td>0.177539</td>\n",
       "    </tr>\n",
       "    <tr>\n",
       "      <th>3</th>\n",
       "      <td>0.174902</td>\n",
       "      <td>0.174902</td>\n",
       "      <td>0.174902</td>\n",
       "      <td>0.174902</td>\n",
       "      <td>0.174902</td>\n",
       "      <td>0.174902</td>\n",
       "      <td>0.174902</td>\n",
       "      <td>0.174902</td>\n",
       "      <td>0.174902</td>\n",
       "    </tr>\n",
       "    <tr>\n",
       "      <th>4</th>\n",
       "      <td>0.148835</td>\n",
       "      <td>0.148835</td>\n",
       "      <td>0.148835</td>\n",
       "      <td>0.148835</td>\n",
       "      <td>0.148835</td>\n",
       "      <td>0.148835</td>\n",
       "      <td>0.148835</td>\n",
       "      <td>0.148835</td>\n",
       "      <td>0.148835</td>\n",
       "    </tr>\n",
       "  </tbody>\n",
       "</table>\n",
       "</div>"
      ],
      "text/plain": [
       "               ID  categories_name_list     title     venue  occurences  \\\n",
       "Quarter                                                                   \n",
       "1        0.113723              0.113723  0.113723  0.113723    0.113723   \n",
       "2        0.177539              0.177539  0.177539  0.177539    0.177539   \n",
       "3        0.174902              0.174902  0.174902  0.174902    0.174902   \n",
       "4        0.148835              0.148835  0.148835  0.148835    0.148835   \n",
       "\n",
       "         LastDate  price_cat  Venue Name     Month  \n",
       "Quarter                                             \n",
       "1        0.113723   0.113723    0.113723  0.113723  \n",
       "2        0.177539   0.177539    0.177539  0.177539  \n",
       "3        0.174902   0.174902    0.174902  0.174902  \n",
       "4        0.148835   0.148835    0.148835  0.148835  "
      ]
     },
     "execution_count": 155,
     "metadata": {},
     "output_type": "execute_result"
    }
   ],
   "source": [
    "free_events = (agendalx[agendalx.price_cat ==\"free\"]).groupby(\"Quarter\").count()\n",
    "not_free_events = agendalx.groupby(\"Quarter\").count()\n",
    "\n",
    "\n",
    "total = free_events / (free_events + not_free_events)\n",
    "total"
   ]
  },
  {
   "cell_type": "code",
   "execution_count": 154,
   "metadata": {},
   "outputs": [
    {
     "name": "stdout",
     "output_type": "stream",
     "text": [
      "[Quarter\n",
      "1    179\n",
      "2    264\n",
      "3    269\n",
      "4    345\n",
      "Name: price_cat, dtype: int64]\n",
      "[Quarter\n",
      "1    502\n",
      "2    440\n",
      "3    393\n",
      "4    752\n",
      "Name: price_cat, dtype: int64]\n",
      "[Quarter\n",
      "1     681\n",
      "2     704\n",
      "3     662\n",
      "4    1097\n",
      "Name: price_cat, dtype: int64]\n",
      "[Quarter\n",
      "1    0.262849\n",
      "2    0.375000\n",
      "3    0.406344\n",
      "4    0.314494\n",
      "Name: price_cat, dtype: float64]\n"
     ]
    }
   ],
   "source": [
    "list1=[agendalx[agendalx.price_cat == 'free'].groupby('Quarter')['price_cat'].count()]\n",
    "print(list1)\n",
    "list2=[agendalx[agendalx.price_cat=='value'].groupby('Quarter')['price_cat'].count()]\n",
    "print(list2)\n",
    "list3=[x+y for x in list1 for y in list2]\n",
    "print(list3)\n",
    "list4=[x/y for x in list1 for y in list3]\n",
    "print(list4)"
   ]
  }
 ],
 "metadata": {
  "kernelspec": {
   "display_name": "Python 3",
   "language": "python",
   "name": "python3"
  },
  "language_info": {
   "codemirror_mode": {
    "name": "ipython",
    "version": 3
   },
   "file_extension": ".py",
   "mimetype": "text/x-python",
   "name": "python",
   "nbconvert_exporter": "python",
   "pygments_lexer": "ipython3",
   "version": "3.7.2"
  }
 },
 "nbformat": 4,
 "nbformat_minor": 2
}
