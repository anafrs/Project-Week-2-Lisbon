{
 "cells": [
  {
   "cell_type": "code",
   "execution_count": 1,
   "metadata": {},
   "outputs": [],
   "source": [
    "import pandas as pd"
   ]
  },
  {
   "cell_type": "code",
   "execution_count": 3,
   "metadata": {},
   "outputs": [],
   "source": [
    "file = pd.read_json(\"agenda_cultural.json\")"
   ]
  },
  {
   "cell_type": "code",
   "execution_count": 18,
   "metadata": {},
   "outputs": [
    {
     "data": {
      "text/plain": [
       "Index(['ID', 'post_author', 'post_date', 'post_date_gmt', 'post_content',\n",
       "       'post_title', 'post_excerpt', 'post_status', 'comment_status',\n",
       "       'ping_status', 'post_password', 'post_name', 'to_ping', 'pinged',\n",
       "       'post_modified', 'post_modified_gmt', 'post_content_filtered',\n",
       "       'post_parent', 'guid', 'menu_order', 'post_type', 'post_mime_type',\n",
       "       'comment_count', 'filter', 'id', 'type', 'title', 'featured_media',\n",
       "       'featured_media_thumbnail', 'featured_media_medium',\n",
       "       'featured_media_large', 'subtitle', 'subject', 'string_dates',\n",
       "       'string_times', 'description', 'venue', 'categories_name_list',\n",
       "       'tags_name_list', 'link', 'occurences', 'StartDate', 'LastDate',\n",
       "       'price_cat', 'price_val', 'target_audience', 'accessibility'],\n",
       "      dtype='object')"
      ]
     },
     "execution_count": 18,
     "metadata": {},
     "output_type": "execute_result"
    }
   ],
   "source": [
    "file.columns"
   ]
  },
  {
   "cell_type": "code",
   "execution_count": 17,
   "metadata": {},
   "outputs": [
    {
     "data": {
      "text/plain": [
       "0       {'espaco-nimas': {'id': 405, 'slug': 'espaco-n...\n",
       "1       {'culturgest': {'id': 303, 'slug': 'culturgest...\n",
       "2                                                      []\n",
       "3       {'espaco-nimas': {'id': 405, 'slug': 'espaco-n...\n",
       "4                                                      []\n",
       "                              ...                        \n",
       "5855    {'praca-de-toiros-do-campo-pequeno': {'id': 31...\n",
       "5856    {'padrao-dos-descobrimentos': {'id': 134, 'slu...\n",
       "5857                                                False\n",
       "5858    {'cinemateca': {'id': 777, 'slug': 'cinemateca...\n",
       "5859                                                False\n",
       "Name: venue, Length: 5860, dtype: object"
      ]
     },
     "execution_count": 17,
     "metadata": {},
     "output_type": "execute_result"
    }
   ],
   "source": [
    "file[\"venue\"]"
   ]
  },
  {
   "cell_type": "code",
   "execution_count": 19,
   "metadata": {},
   "outputs": [
    {
     "data": {
      "text/plain": [
       "0       {'espaco-nimas': {'id': 405, 'slug': 'espaco-n...\n",
       "1       {'culturgest': {'id': 303, 'slug': 'culturgest...\n",
       "2                                                      []\n",
       "3       {'espaco-nimas': {'id': 405, 'slug': 'espaco-n...\n",
       "4                                                      []\n",
       "                              ...                        \n",
       "5855    {'praca-de-toiros-do-campo-pequeno': {'id': 31...\n",
       "5856    {'padrao-dos-descobrimentos': {'id': 134, 'slu...\n",
       "5857                                                False\n",
       "5858    {'cinemateca': {'id': 777, 'slug': 'cinemateca...\n",
       "5859                                                False\n",
       "Name: venue, Length: 5860, dtype: object"
      ]
     },
     "execution_count": 19,
     "metadata": {},
     "output_type": "execute_result"
    }
   ],
   "source": [
    "file[\"venue\"]"
   ]
  },
  {
   "cell_type": "code",
   "execution_count": 21,
   "metadata": {},
   "outputs": [
    {
     "data": {
      "text/plain": [
       "5855    event\n",
       "5856    event\n",
       "5857    event\n",
       "5858    event\n",
       "5859    event\n",
       "Name: type, dtype: object"
      ]
     },
     "execution_count": 21,
     "metadata": {},
     "output_type": "execute_result"
    }
   ],
   "source": [
    "file[\"type\"]"
   ]
  }
 ],
 "metadata": {
  "kernelspec": {
   "display_name": "Python 3",
   "language": "python",
   "name": "python3"
  },
  "language_info": {
   "codemirror_mode": {
    "name": "ipython",
    "version": 3
   },
   "file_extension": ".py",
   "mimetype": "text/x-python",
   "name": "python",
   "nbconvert_exporter": "python",
   "pygments_lexer": "ipython3",
   "version": "3.7.2"
  }
 },
 "nbformat": 4,
 "nbformat_minor": 2
}
