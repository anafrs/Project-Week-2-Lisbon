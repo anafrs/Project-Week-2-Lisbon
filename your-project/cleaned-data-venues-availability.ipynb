{
 "cells": [
  {
   "cell_type": "code",
   "execution_count": 1,
   "metadata": {},
   "outputs": [],
   "source": [
    "import pandas as pd\n",
    "import numpy as np\n",
    "import json\n",
    "from pandas.io.json import json_normalize"
   ]
  },
  {
   "cell_type": "code",
   "execution_count": 2,
   "metadata": {},
   "outputs": [
    {
     "data": {
      "text/plain": [
       "Index(['ID', 'post_author', 'post_date', 'post_date_gmt', 'post_content',\n",
       "       'post_title', 'post_excerpt', 'post_status', 'comment_status',\n",
       "       'ping_status', 'post_password', 'post_name', 'to_ping', 'pinged',\n",
       "       'post_modified', 'post_modified_gmt', 'post_content_filtered',\n",
       "       'post_parent', 'guid', 'menu_order', 'post_type', 'post_mime_type',\n",
       "       'comment_count', 'filter', 'id', 'type', 'title', 'featured_media',\n",
       "       'featured_media_thumbnail', 'featured_media_medium',\n",
       "       'featured_media_large', 'subtitle', 'subject', 'string_dates',\n",
       "       'string_times', 'description', 'venue', 'categories_name_list',\n",
       "       'tags_name_list', 'link', 'occurences', 'StartDate', 'LastDate',\n",
       "       'price_cat', 'price_val', 'target_audience', 'accessibility'],\n",
       "      dtype='object')"
      ]
     },
     "execution_count": 2,
     "metadata": {},
     "output_type": "execute_result"
    }
   ],
   "source": [
    "agenda = pd.read_json(\"agenda_cultural.json\")\n",
    "agenda.columns"
   ]
  },
  {
   "cell_type": "code",
   "execution_count": 3,
   "metadata": {},
   "outputs": [
    {
     "data": {
      "text/html": [
       "<div>\n",
       "<style scoped>\n",
       "    .dataframe tbody tr th:only-of-type {\n",
       "        vertical-align: middle;\n",
       "    }\n",
       "\n",
       "    .dataframe tbody tr th {\n",
       "        vertical-align: top;\n",
       "    }\n",
       "\n",
       "    .dataframe thead th {\n",
       "        text-align: right;\n",
       "    }\n",
       "</style>\n",
       "<table border=\"1\" class=\"dataframe\">\n",
       "  <thead>\n",
       "    <tr style=\"text-align: right;\">\n",
       "      <th></th>\n",
       "      <th>ID</th>\n",
       "      <th>categories_name_list</th>\n",
       "      <th>title</th>\n",
       "      <th>venue</th>\n",
       "      <th>occurences</th>\n",
       "      <th>LastDate</th>\n",
       "      <th>price_cat</th>\n",
       "    </tr>\n",
       "  </thead>\n",
       "  <tbody>\n",
       "    <tr>\n",
       "      <td>0</td>\n",
       "      <td>24138</td>\n",
       "      <td>{'cinema': {'id': 38, 'slug': 'cinema', 'name'...</td>\n",
       "      <td>{'rendered': '\"O Farol\" de Robert Eggers'}</td>\n",
       "      <td>{'espaco-nimas': {'id': 405, 'slug': 'espaco-n...</td>\n",
       "      <td>[2020-02-14, 2020-02-15, 2020-02-16, 2020-02-18]</td>\n",
       "      <td>2020-02-18</td>\n",
       "      <td>unknown</td>\n",
       "    </tr>\n",
       "    <tr>\n",
       "      <td>1</td>\n",
       "      <td>24137</td>\n",
       "      <td>{'musica': {'id': 42, 'slug': 'musica', 'name'...</td>\n",
       "      <td>{'rendered': 'Resistência'}</td>\n",
       "      <td>{'culturgest': {'id': 303, 'slug': 'culturgest...</td>\n",
       "      <td>[2020-02-15]</td>\n",
       "      <td>2020-02-15</td>\n",
       "      <td>value</td>\n",
       "    </tr>\n",
       "    <tr>\n",
       "      <td>2</td>\n",
       "      <td>24132</td>\n",
       "      <td>{'ciencia': {'id': 39, 'slug': 'ciencia', 'nam...</td>\n",
       "      <td>{'rendered': 'Dinossauros Explorer'}</td>\n",
       "      <td>[]</td>\n",
       "      <td>[2019-12-21, 2019-12-22, 2019-12-23, 2019-12-2...</td>\n",
       "      <td>2020-03-22</td>\n",
       "      <td></td>\n",
       "    </tr>\n",
       "    <tr>\n",
       "      <td>3</td>\n",
       "      <td>24109</td>\n",
       "      <td>{'cinema': {'id': 38, 'slug': 'cinema', 'name'...</td>\n",
       "      <td>{'rendered': 'Especial Óscares'}</td>\n",
       "      <td>{'espaco-nimas': {'id': 405, 'slug': 'espaco-n...</td>\n",
       "      <td>[2020-02-02, 2020-02-03, 2020-02-04, 2020-02-0...</td>\n",
       "      <td>2020-02-24</td>\n",
       "      <td>unknown</td>\n",
       "    </tr>\n",
       "    <tr>\n",
       "      <td>4</td>\n",
       "      <td>24128</td>\n",
       "      <td>{'danca': {'id': 26, 'slug': 'danca', 'name': ...</td>\n",
       "      <td>{'rendered': 'The Wake of Sleep'}</td>\n",
       "      <td>[]</td>\n",
       "      <td>[2020-01-29]</td>\n",
       "      <td>2020-01-29</td>\n",
       "      <td>free</td>\n",
       "    </tr>\n",
       "  </tbody>\n",
       "</table>\n",
       "</div>"
      ],
      "text/plain": [
       "      ID                               categories_name_list  \\\n",
       "0  24138  {'cinema': {'id': 38, 'slug': 'cinema', 'name'...   \n",
       "1  24137  {'musica': {'id': 42, 'slug': 'musica', 'name'...   \n",
       "2  24132  {'ciencia': {'id': 39, 'slug': 'ciencia', 'nam...   \n",
       "3  24109  {'cinema': {'id': 38, 'slug': 'cinema', 'name'...   \n",
       "4  24128  {'danca': {'id': 26, 'slug': 'danca', 'name': ...   \n",
       "\n",
       "                                        title  \\\n",
       "0  {'rendered': '\"O Farol\" de Robert Eggers'}   \n",
       "1                 {'rendered': 'Resistência'}   \n",
       "2        {'rendered': 'Dinossauros Explorer'}   \n",
       "3            {'rendered': 'Especial Óscares'}   \n",
       "4           {'rendered': 'The Wake of Sleep'}   \n",
       "\n",
       "                                               venue  \\\n",
       "0  {'espaco-nimas': {'id': 405, 'slug': 'espaco-n...   \n",
       "1  {'culturgest': {'id': 303, 'slug': 'culturgest...   \n",
       "2                                                 []   \n",
       "3  {'espaco-nimas': {'id': 405, 'slug': 'espaco-n...   \n",
       "4                                                 []   \n",
       "\n",
       "                                          occurences    LastDate price_cat  \n",
       "0   [2020-02-14, 2020-02-15, 2020-02-16, 2020-02-18]  2020-02-18   unknown  \n",
       "1                                       [2020-02-15]  2020-02-15     value  \n",
       "2  [2019-12-21, 2019-12-22, 2019-12-23, 2019-12-2...  2020-03-22            \n",
       "3  [2020-02-02, 2020-02-03, 2020-02-04, 2020-02-0...  2020-02-24   unknown  \n",
       "4                                       [2020-01-29]  2020-01-29      free  "
      ]
     },
     "execution_count": 3,
     "metadata": {},
     "output_type": "execute_result"
    }
   ],
   "source": [
    "agendalx = agenda[[\"ID\", \"categories_name_list\", \"title\", \"venue\", \"occurences\", \"LastDate\", \"price_cat\"]]\n",
    "agendalx.head(5)"
   ]
  },
  {
   "cell_type": "markdown",
   "metadata": {},
   "source": [
    "### Clean venue  and create column"
   ]
  },
  {
   "cell_type": "code",
   "execution_count": 4,
   "metadata": {},
   "outputs": [
    {
     "name": "stderr",
     "output_type": "stream",
     "text": [
      "/home/rute/anaconda3/lib/python3.7/site-packages/ipykernel_launcher.py:11: SettingWithCopyWarning: \n",
      "A value is trying to be set on a copy of a slice from a DataFrame.\n",
      "Try using .loc[row_indexer,col_indexer] = value instead\n",
      "\n",
      "See the caveats in the documentation: http://pandas.pydata.org/pandas-docs/stable/user_guide/indexing.html#returning-a-view-versus-a-copy\n",
      "  # This is added back by InteractiveShellApp.init_path()\n"
     ]
    },
    {
     "data": {
      "text/html": [
       "<div>\n",
       "<style scoped>\n",
       "    .dataframe tbody tr th:only-of-type {\n",
       "        vertical-align: middle;\n",
       "    }\n",
       "\n",
       "    .dataframe tbody tr th {\n",
       "        vertical-align: top;\n",
       "    }\n",
       "\n",
       "    .dataframe thead th {\n",
       "        text-align: right;\n",
       "    }\n",
       "</style>\n",
       "<table border=\"1\" class=\"dataframe\">\n",
       "  <thead>\n",
       "    <tr style=\"text-align: right;\">\n",
       "      <th></th>\n",
       "      <th>ID</th>\n",
       "      <th>categories_name_list</th>\n",
       "      <th>title</th>\n",
       "      <th>venue</th>\n",
       "      <th>occurences</th>\n",
       "      <th>LastDate</th>\n",
       "      <th>price_cat</th>\n",
       "      <th>Venue Name</th>\n",
       "    </tr>\n",
       "  </thead>\n",
       "  <tbody>\n",
       "    <tr>\n",
       "      <td>0</td>\n",
       "      <td>24138</td>\n",
       "      <td>{'cinema': {'id': 38, 'slug': 'cinema', 'name'...</td>\n",
       "      <td>{'rendered': '\"O Farol\" de Robert Eggers'}</td>\n",
       "      <td>{'espaco-nimas': {'id': 405, 'slug': 'espaco-n...</td>\n",
       "      <td>[2020-02-14, 2020-02-15, 2020-02-16, 2020-02-18]</td>\n",
       "      <td>2020-02-18</td>\n",
       "      <td>unknown</td>\n",
       "      <td>espaco-nimas</td>\n",
       "    </tr>\n",
       "    <tr>\n",
       "      <td>1</td>\n",
       "      <td>24137</td>\n",
       "      <td>{'musica': {'id': 42, 'slug': 'musica', 'name'...</td>\n",
       "      <td>{'rendered': 'Resistência'}</td>\n",
       "      <td>{'culturgest': {'id': 303, 'slug': 'culturgest...</td>\n",
       "      <td>[2020-02-15]</td>\n",
       "      <td>2020-02-15</td>\n",
       "      <td>value</td>\n",
       "      <td>culturgest</td>\n",
       "    </tr>\n",
       "    <tr>\n",
       "      <td>2</td>\n",
       "      <td>24132</td>\n",
       "      <td>{'ciencia': {'id': 39, 'slug': 'ciencia', 'nam...</td>\n",
       "      <td>{'rendered': 'Dinossauros Explorer'}</td>\n",
       "      <td>[]</td>\n",
       "      <td>[2019-12-21, 2019-12-22, 2019-12-23, 2019-12-2...</td>\n",
       "      <td>2020-03-22</td>\n",
       "      <td></td>\n",
       "      <td>---</td>\n",
       "    </tr>\n",
       "    <tr>\n",
       "      <td>3</td>\n",
       "      <td>24109</td>\n",
       "      <td>{'cinema': {'id': 38, 'slug': 'cinema', 'name'...</td>\n",
       "      <td>{'rendered': 'Especial Óscares'}</td>\n",
       "      <td>{'espaco-nimas': {'id': 405, 'slug': 'espaco-n...</td>\n",
       "      <td>[2020-02-02, 2020-02-03, 2020-02-04, 2020-02-0...</td>\n",
       "      <td>2020-02-24</td>\n",
       "      <td>unknown</td>\n",
       "      <td>espaco-nimas</td>\n",
       "    </tr>\n",
       "    <tr>\n",
       "      <td>4</td>\n",
       "      <td>24128</td>\n",
       "      <td>{'danca': {'id': 26, 'slug': 'danca', 'name': ...</td>\n",
       "      <td>{'rendered': 'The Wake of Sleep'}</td>\n",
       "      <td>[]</td>\n",
       "      <td>[2020-01-29]</td>\n",
       "      <td>2020-01-29</td>\n",
       "      <td>free</td>\n",
       "      <td>---</td>\n",
       "    </tr>\n",
       "  </tbody>\n",
       "</table>\n",
       "</div>"
      ],
      "text/plain": [
       "      ID                               categories_name_list  \\\n",
       "0  24138  {'cinema': {'id': 38, 'slug': 'cinema', 'name'...   \n",
       "1  24137  {'musica': {'id': 42, 'slug': 'musica', 'name'...   \n",
       "2  24132  {'ciencia': {'id': 39, 'slug': 'ciencia', 'nam...   \n",
       "3  24109  {'cinema': {'id': 38, 'slug': 'cinema', 'name'...   \n",
       "4  24128  {'danca': {'id': 26, 'slug': 'danca', 'name': ...   \n",
       "\n",
       "                                        title  \\\n",
       "0  {'rendered': '\"O Farol\" de Robert Eggers'}   \n",
       "1                 {'rendered': 'Resistência'}   \n",
       "2        {'rendered': 'Dinossauros Explorer'}   \n",
       "3            {'rendered': 'Especial Óscares'}   \n",
       "4           {'rendered': 'The Wake of Sleep'}   \n",
       "\n",
       "                                               venue  \\\n",
       "0  {'espaco-nimas': {'id': 405, 'slug': 'espaco-n...   \n",
       "1  {'culturgest': {'id': 303, 'slug': 'culturgest...   \n",
       "2                                                 []   \n",
       "3  {'espaco-nimas': {'id': 405, 'slug': 'espaco-n...   \n",
       "4                                                 []   \n",
       "\n",
       "                                          occurences    LastDate price_cat  \\\n",
       "0   [2020-02-14, 2020-02-15, 2020-02-16, 2020-02-18]  2020-02-18   unknown   \n",
       "1                                       [2020-02-15]  2020-02-15     value   \n",
       "2  [2019-12-21, 2019-12-22, 2019-12-23, 2019-12-2...  2020-03-22             \n",
       "3  [2020-02-02, 2020-02-03, 2020-02-04, 2020-02-0...  2020-02-24   unknown   \n",
       "4                                       [2020-01-29]  2020-01-29      free   \n",
       "\n",
       "     Venue Name  \n",
       "0  espaco-nimas  \n",
       "1    culturgest  \n",
       "2           ---  \n",
       "3  espaco-nimas  \n",
       "4           ---  "
      ]
     },
     "execution_count": 4,
     "metadata": {},
     "output_type": "execute_result"
    }
   ],
   "source": [
    "venue = agenda[\"venue\"]\n",
    "\n",
    "def get_venue(x):\n",
    "    if type(x) == dict:\n",
    "        # Return the first key\n",
    "        return list(x.keys())[0]\n",
    "    \n",
    "    return \"---\"\n",
    "\n",
    "            \n",
    "agendalx[\"Venue Name\"] = agendalx[\"venue\"].apply(get_venue)\n",
    "agendalx.head()"
   ]
  },
  {
   "cell_type": "markdown",
   "metadata": {},
   "source": [
    "### Clean date and create column "
   ]
  },
  {
   "cell_type": "code",
   "execution_count": 5,
   "metadata": {},
   "outputs": [
    {
     "name": "stderr",
     "output_type": "stream",
     "text": [
      "/home/rute/anaconda3/lib/python3.7/site-packages/ipykernel_launcher.py:4: SettingWithCopyWarning: \n",
      "A value is trying to be set on a copy of a slice from a DataFrame.\n",
      "Try using .loc[row_indexer,col_indexer] = value instead\n",
      "\n",
      "See the caveats in the documentation: http://pandas.pydata.org/pandas-docs/stable/user_guide/indexing.html#returning-a-view-versus-a-copy\n",
      "  after removing the cwd from sys.path.\n",
      "/home/rute/anaconda3/lib/python3.7/site-packages/ipykernel_launcher.py:6: SettingWithCopyWarning: \n",
      "A value is trying to be set on a copy of a slice from a DataFrame.\n",
      "Try using .loc[row_indexer,col_indexer] = value instead\n",
      "\n",
      "See the caveats in the documentation: http://pandas.pydata.org/pandas-docs/stable/user_guide/indexing.html#returning-a-view-versus-a-copy\n",
      "  \n",
      "/home/rute/anaconda3/lib/python3.7/site-packages/ipykernel_launcher.py:8: SettingWithCopyWarning: \n",
      "A value is trying to be set on a copy of a slice from a DataFrame.\n",
      "Try using .loc[row_indexer,col_indexer] = value instead\n",
      "\n",
      "See the caveats in the documentation: http://pandas.pydata.org/pandas-docs/stable/user_guide/indexing.html#returning-a-view-versus-a-copy\n",
      "  \n"
     ]
    }
   ],
   "source": [
    "# no null values\n",
    "agendalx[\"LastDate\"].isnull().sum()\n",
    "# to datetime\n",
    "agendalx[\"LastDate\"] = pd.to_datetime(agendalx[\"LastDate\"])\n",
    "#month column\n",
    "agendalx[\"Month\"] = agendalx[\"LastDate\"].dt.month\n",
    "#quarter column\n",
    "agendalx[\"Quarter\"] = agendalx[\"LastDate\"].dt.quarter\n"
   ]
  },
  {
   "cell_type": "markdown",
   "metadata": {},
   "source": [
    "### Clean type of event and create event"
   ]
  },
  {
   "cell_type": "code",
   "execution_count": 6,
   "metadata": {},
   "outputs": [
    {
     "name": "stderr",
     "output_type": "stream",
     "text": [
      "/home/rute/anaconda3/lib/python3.7/site-packages/ipykernel_launcher.py:6: SettingWithCopyWarning: \n",
      "A value is trying to be set on a copy of a slice from a DataFrame.\n",
      "Try using .loc[row_indexer,col_indexer] = value instead\n",
      "\n",
      "See the caveats in the documentation: http://pandas.pydata.org/pandas-docs/stable/user_guide/indexing.html#returning-a-view-versus-a-copy\n",
      "  \n"
     ]
    }
   ],
   "source": [
    "def get_event(x):\n",
    "    if type(x) == dict:\n",
    "        # Return the first key\n",
    "        return list(x.keys())[0]\n",
    "    return \"---\"\n",
    "agendalx[\"categories_name_list\"] = agendalx[\"categories_name_list\"].apply(get_event)"
   ]
  },
  {
   "cell_type": "code",
   "execution_count": 7,
   "metadata": {},
   "outputs": [
    {
     "data": {
      "text/html": [
       "<div>\n",
       "<style scoped>\n",
       "    .dataframe tbody tr th:only-of-type {\n",
       "        vertical-align: middle;\n",
       "    }\n",
       "\n",
       "    .dataframe tbody tr th {\n",
       "        vertical-align: top;\n",
       "    }\n",
       "\n",
       "    .dataframe thead th {\n",
       "        text-align: right;\n",
       "    }\n",
       "</style>\n",
       "<table border=\"1\" class=\"dataframe\">\n",
       "  <thead>\n",
       "    <tr style=\"text-align: right;\">\n",
       "      <th></th>\n",
       "      <th>ID</th>\n",
       "      <th>categories_name_list</th>\n",
       "      <th>title</th>\n",
       "      <th>venue</th>\n",
       "      <th>occurences</th>\n",
       "      <th>LastDate</th>\n",
       "      <th>price_cat</th>\n",
       "      <th>Venue Name</th>\n",
       "      <th>Month</th>\n",
       "      <th>Quarter</th>\n",
       "    </tr>\n",
       "  </thead>\n",
       "  <tbody>\n",
       "    <tr>\n",
       "      <td>0</td>\n",
       "      <td>24138</td>\n",
       "      <td>cinema</td>\n",
       "      <td>{'rendered': '\"O Farol\" de Robert Eggers'}</td>\n",
       "      <td>{'espaco-nimas': {'id': 405, 'slug': 'espaco-n...</td>\n",
       "      <td>[2020-02-14, 2020-02-15, 2020-02-16, 2020-02-18]</td>\n",
       "      <td>2020-02-18</td>\n",
       "      <td>unknown</td>\n",
       "      <td>espaco-nimas</td>\n",
       "      <td>2</td>\n",
       "      <td>1</td>\n",
       "    </tr>\n",
       "    <tr>\n",
       "      <td>1</td>\n",
       "      <td>24137</td>\n",
       "      <td>musica</td>\n",
       "      <td>{'rendered': 'Resistência'}</td>\n",
       "      <td>{'culturgest': {'id': 303, 'slug': 'culturgest...</td>\n",
       "      <td>[2020-02-15]</td>\n",
       "      <td>2020-02-15</td>\n",
       "      <td>value</td>\n",
       "      <td>culturgest</td>\n",
       "      <td>2</td>\n",
       "      <td>1</td>\n",
       "    </tr>\n",
       "    <tr>\n",
       "      <td>2</td>\n",
       "      <td>24132</td>\n",
       "      <td>ciencia</td>\n",
       "      <td>{'rendered': 'Dinossauros Explorer'}</td>\n",
       "      <td>[]</td>\n",
       "      <td>[2019-12-21, 2019-12-22, 2019-12-23, 2019-12-2...</td>\n",
       "      <td>2020-03-22</td>\n",
       "      <td></td>\n",
       "      <td>---</td>\n",
       "      <td>3</td>\n",
       "      <td>1</td>\n",
       "    </tr>\n",
       "    <tr>\n",
       "      <td>3</td>\n",
       "      <td>24109</td>\n",
       "      <td>cinema</td>\n",
       "      <td>{'rendered': 'Especial Óscares'}</td>\n",
       "      <td>{'espaco-nimas': {'id': 405, 'slug': 'espaco-n...</td>\n",
       "      <td>[2020-02-02, 2020-02-03, 2020-02-04, 2020-02-0...</td>\n",
       "      <td>2020-02-24</td>\n",
       "      <td>unknown</td>\n",
       "      <td>espaco-nimas</td>\n",
       "      <td>2</td>\n",
       "      <td>1</td>\n",
       "    </tr>\n",
       "    <tr>\n",
       "      <td>4</td>\n",
       "      <td>24128</td>\n",
       "      <td>danca</td>\n",
       "      <td>{'rendered': 'The Wake of Sleep'}</td>\n",
       "      <td>[]</td>\n",
       "      <td>[2020-01-29]</td>\n",
       "      <td>2020-01-29</td>\n",
       "      <td>free</td>\n",
       "      <td>---</td>\n",
       "      <td>1</td>\n",
       "      <td>1</td>\n",
       "    </tr>\n",
       "  </tbody>\n",
       "</table>\n",
       "</div>"
      ],
      "text/plain": [
       "      ID categories_name_list                                       title  \\\n",
       "0  24138               cinema  {'rendered': '\"O Farol\" de Robert Eggers'}   \n",
       "1  24137               musica                 {'rendered': 'Resistência'}   \n",
       "2  24132              ciencia        {'rendered': 'Dinossauros Explorer'}   \n",
       "3  24109               cinema            {'rendered': 'Especial Óscares'}   \n",
       "4  24128                danca           {'rendered': 'The Wake of Sleep'}   \n",
       "\n",
       "                                               venue  \\\n",
       "0  {'espaco-nimas': {'id': 405, 'slug': 'espaco-n...   \n",
       "1  {'culturgest': {'id': 303, 'slug': 'culturgest...   \n",
       "2                                                 []   \n",
       "3  {'espaco-nimas': {'id': 405, 'slug': 'espaco-n...   \n",
       "4                                                 []   \n",
       "\n",
       "                                          occurences   LastDate price_cat  \\\n",
       "0   [2020-02-14, 2020-02-15, 2020-02-16, 2020-02-18] 2020-02-18   unknown   \n",
       "1                                       [2020-02-15] 2020-02-15     value   \n",
       "2  [2019-12-21, 2019-12-22, 2019-12-23, 2019-12-2... 2020-03-22             \n",
       "3  [2020-02-02, 2020-02-03, 2020-02-04, 2020-02-0... 2020-02-24   unknown   \n",
       "4                                       [2020-01-29] 2020-01-29      free   \n",
       "\n",
       "     Venue Name  Month  Quarter  \n",
       "0  espaco-nimas      2        1  \n",
       "1    culturgest      2        1  \n",
       "2           ---      3        1  \n",
       "3  espaco-nimas      2        1  \n",
       "4           ---      1        1  "
      ]
     },
     "execution_count": 7,
     "metadata": {},
     "output_type": "execute_result"
    }
   ],
   "source": [
    "agendalx.head()"
   ]
  },
  {
   "cell_type": "code",
   "execution_count": 42,
   "metadata": {},
   "outputs": [
    {
     "data": {
      "text/plain": [
       "---                                            267\n",
       "centro-cultural-de-belem                       264\n",
       "fundacao-calouste-gulbenkian                   201\n",
       "sao-luiz-teatro-municipal                      127\n",
       "cinemateca                                     123\n",
       "museu-do-oriente                               101\n",
       "coliseu-dos-recreios                            92\n",
       "teatro-nacional-dona-maria-ii                   87\n",
       "culturgest                                      84\n",
       "cineteatro-capitolio-teatro-raul-solnado        78\n",
       "altice-arena                                    70\n",
       "musicbox                                        68\n",
       "rua-das-gaivotas-6                              65\n",
       "museu-da-marioneta                              65\n",
       "maat-museu-de-arte-arquitetura-e-tecnologia     62\n",
       "teatro-tivoli-bbva                              61\n",
       "lu-ca-teatro-luis-de-camoes                     60\n",
       "casino-de-lisboa                                59\n",
       "cinema-sao-jorge                                50\n",
       "museu-do-dinheiro                               50\n",
       "teatro-do-bairro                                45\n",
       "praca-de-toiros-do-campo-pequeno                44\n",
       "Name: Venue Name, dtype: int64"
      ]
     },
     "execution_count": 42,
     "metadata": {},
     "output_type": "execute_result"
    }
   ],
   "source": [
    "venue_occur = agendalx['Venue Name'].value_counts()\n",
    "venue_occur.head(22)"
   ]
  },
  {
   "cell_type": "code",
   "execution_count": 9,
   "metadata": {},
   "outputs": [
    {
     "data": {
      "text/plain": [
       "750"
      ]
     },
     "execution_count": 9,
     "metadata": {},
     "output_type": "execute_result"
    }
   ],
   "source": [
    "#number of unique venues\n",
    "agendalx[\"Venue Name\"].nunique()"
   ]
  },
  {
   "cell_type": "code",
   "execution_count": 67,
   "metadata": {},
   "outputs": [
    {
     "ename": "TypeError",
     "evalue": "nlargest() missing 1 required positional argument: 'n'",
     "output_type": "error",
     "traceback": [
      "\u001b[0;31m---------------------------------------------------------------------------\u001b[0m",
      "\u001b[0;31mTypeError\u001b[0m                                 Traceback (most recent call last)",
      "\u001b[0;32m<ipython-input-67-59c78d0eb6f6>\u001b[0m in \u001b[0;36m<module>\u001b[0;34m\u001b[0m\n\u001b[1;32m      4\u001b[0m \u001b[0;34m\u001b[0m\u001b[0m\n\u001b[1;32m      5\u001b[0m \u001b[0;34m\u001b[0m\u001b[0m\n\u001b[0;32m----> 6\u001b[0;31m \u001b[0mgrouping_venue_month\u001b[0m \u001b[0;34m=\u001b[0m \u001b[0magendalx\u001b[0m\u001b[0;34m.\u001b[0m\u001b[0mgroupby\u001b[0m\u001b[0;34m(\u001b[0m\u001b[0;34m[\u001b[0m\u001b[0;34m\"Venue Name\"\u001b[0m\u001b[0;34m,\u001b[0m \u001b[0;34m\"Quarter\"\u001b[0m\u001b[0;34m]\u001b[0m\u001b[0;34m)\u001b[0m\u001b[0;34m.\u001b[0m\u001b[0mcount\u001b[0m\u001b[0;34m(\u001b[0m\u001b[0;34m)\u001b[0m\u001b[0;34m.\u001b[0m\u001b[0mnlargest\u001b[0m\u001b[0;34m(\u001b[0m\u001b[0mcolumns\u001b[0m \u001b[0;34m=\u001b[0m \u001b[0;34m\"Venue Name\"\u001b[0m\u001b[0;34m)\u001b[0m\u001b[0;34m\u001b[0m\u001b[0;34m\u001b[0m\u001b[0m\n\u001b[0m",
      "\u001b[0;31mTypeError\u001b[0m: nlargest() missing 1 required positional argument: 'n'"
     ]
    }
   ],
   "source": [
    "grouping_venue_month = agendalx.groupby([\"Venue Name\", \"Quarter\"]).agg(sum)\n",
    "grouping_venue_month = grouping_venue_month.sort_values(['count'], ascending=False)\n",
    "grouping_venue_month.head(20)\n",
    "\n"
   ]
  }
 ],
 "metadata": {
  "kernelspec": {
   "display_name": "Python 3",
   "language": "python",
   "name": "python3"
  },
  "language_info": {
   "codemirror_mode": {
    "name": "ipython",
    "version": 3
   },
   "file_extension": ".py",
   "mimetype": "text/x-python",
   "name": "python",
   "nbconvert_exporter": "python",
   "pygments_lexer": "ipython3",
   "version": "3.7.4"
  }
 },
 "nbformat": 4,
 "nbformat_minor": 2
}
